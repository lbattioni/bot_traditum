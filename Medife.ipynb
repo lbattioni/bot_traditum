{
 "cells": [
  {
   "cell_type": "code",
   "execution_count": 1,
   "metadata": {},
   "outputs": [],
   "source": [
    "from selenium import webdriver\n",
    "from selenium.webdriver.common.by import By\n",
    "from selenium.webdriver.common.action_chains import ActionChains\n",
    "from selenium.webdriver.support.wait import WebDriverWait\n",
    "from selenium.webdriver.common.keys import Keys\n",
    "from selenium.webdriver.chrome.service import Service\n",
    "from webdriver_manager.chrome import ChromeDriverManager\n",
    "from selenium.webdriver.support import expected_conditions as EC\n",
    "from selenium.webdriver.support.select import Select\n",
    "import pandas as pd\n",
    "import time\n",
    "from datetime import datetime"
   ]
  },
  {
   "cell_type": "code",
   "execution_count": 2,
   "metadata": {},
   "outputs": [],
   "source": [
    "usuarios_datos=pd.DataFrame(pd.read_excel(r'path to csv with user data'))\n",
    "usu=str(usuarios_datos['usuario'][0])\n",
    "clave=str(usuarios_datos['clave'][0])\n",
    "mat=str(usuarios_datos['matricula'][0])\n",
    "cuit=str(usuarios_datos['cuit'][0])\n",
    "\n"
   ]
  },
  {
   "cell_type": "code",
   "execution_count": 3,
   "metadata": {},
   "outputs": [],
   "source": [
    "prestaciones=pd.DataFrame(pd.read_excel(r'path to excel with data to upload'))\n"
   ]
  },
  {
   "cell_type": "code",
   "execution_count": 6,
   "metadata": {},
   "outputs": [
    {
     "ename": "AttributeError",
     "evalue": "'NoneType' object has no attribute 'click'",
     "output_type": "error",
     "traceback": [
      "\u001b[1;31m---------------------------------------------------------------------------\u001b[0m",
      "\u001b[1;31mAttributeError\u001b[0m                            Traceback (most recent call last)",
      "\u001b[1;32m~\\AppData\\Local\\Temp\\ipykernel_10592\\157014499.py\u001b[0m in \u001b[0;36m<module>\u001b[1;34m\u001b[0m\n\u001b[0;32m      7\u001b[0m \u001b[0mdriver\u001b[0m\u001b[1;33m.\u001b[0m\u001b[0mfind_element\u001b[0m\u001b[1;33m(\u001b[0m\u001b[0mBy\u001b[0m\u001b[1;33m.\u001b[0m\u001b[0mID\u001b[0m\u001b[1;33m,\u001b[0m\u001b[1;34m'btnLogin'\u001b[0m\u001b[1;33m)\u001b[0m\u001b[1;33m.\u001b[0m\u001b[0mclick\u001b[0m\u001b[1;33m(\u001b[0m\u001b[1;33m)\u001b[0m\u001b[1;33m\u001b[0m\u001b[1;33m\u001b[0m\u001b[0m\n\u001b[0;32m      8\u001b[0m \u001b[1;31m#seleccion de medife y solicitud de autorizacion\u001b[0m\u001b[1;33m\u001b[0m\u001b[1;33m\u001b[0m\u001b[0m\n\u001b[1;32m----> 9\u001b[1;33m \u001b[0mdriver\u001b[0m\u001b[1;33m.\u001b[0m\u001b[0mfind_element\u001b[0m\u001b[1;33m(\u001b[0m\u001b[0mBy\u001b[0m\u001b[1;33m.\u001b[0m\u001b[0mCLASS_NAME\u001b[0m\u001b[1;33m,\u001b[0m\u001b[1;34m'navbar-menu'\u001b[0m\u001b[1;33m)\u001b[0m\u001b[1;33m.\u001b[0m\u001b[0mclick\u001b[0m\u001b[1;33m(\u001b[0m\u001b[1;33m)\u001b[0m\u001b[1;31m#click en menu\u001b[0m\u001b[1;33m\u001b[0m\u001b[1;33m\u001b[0m\u001b[0m\n\u001b[0m\u001b[0;32m     10\u001b[0m \u001b[0mhoverable\u001b[0m \u001b[1;33m=\u001b[0m \u001b[0mdriver\u001b[0m\u001b[1;33m.\u001b[0m\u001b[0mfind_element\u001b[0m\u001b[1;33m(\u001b[0m\u001b[0mBy\u001b[0m\u001b[1;33m.\u001b[0m\u001b[0mID\u001b[0m\u001b[1;33m,\u001b[0m \u001b[1;34m\"rptFinanciadoras_lblFinanciadora_0\"\u001b[0m\u001b[1;33m)\u001b[0m\u001b[1;33m\u001b[0m\u001b[1;33m\u001b[0m\u001b[0m\n\u001b[0;32m     11\u001b[0m \u001b[0mActionChains\u001b[0m\u001b[1;33m(\u001b[0m\u001b[0mdriver\u001b[0m\u001b[1;33m)\u001b[0m\u001b[0;31m\\\u001b[0m\u001b[1;33m\u001b[0m\u001b[1;33m\u001b[0m\u001b[0m\n",
      "\u001b[1;31mAttributeError\u001b[0m: 'NoneType' object has no attribute 'click'"
     ]
    }
   ],
   "source": [
    "#acceso y login\n",
    "driver = webdriver.Chrome(service=Service(executable_path=ChromeDriverManager().install()))\n",
    "#driver = webdriver.Chrome(ChromeDriverManager().install())\n",
    "driver.get(\"https://menu.traditum.com/View/Login.aspx\")\n",
    "driver.find_element(By.NAME,'txtUsuario').send_keys(usu)#cambiar a un objeto el usuario y contrasena\n",
    "driver.find_element(By.NAME, 'txtPassword').send_keys(clave)\n",
    "driver.find_element(By.ID,'btnLogin').click()\n",
    "#seleccion de medife y solicitud de autorizacion\n",
    "driver.find_element(By.CLASS_NAME,'navbar-menu').click()#click en menu\n",
    "hoverable = driver.find_element(By.ID, \"rptFinanciadoras_lblFinanciadora_0\")\n",
    "ActionChains(driver)\\\n",
    "    .move_to_element(hoverable).perform()\n",
    "driver.find_element(By.LINK_TEXT,'Solicitud de autorización').click()\n",
    "#carga de datos de prestador\n",
    "driver.switch_to.frame('myIframe') \n",
    "driver.find_element(By.ID,'bodyContent_PRD_EFE_txtNroIDPrestador').send_keys(mat)\n",
    "driver.find_element(By.ID,'bodyContent_PRD_PRE_txtNroIDPrestador').send_keys(cuit) \n",
    "#cargo paciente\n",
    "#aca empezaria el for loop\n",
    "for i in prestaciones.index:\n",
    "    time.sleep(3)\n",
    "    afi=WebDriverWait(driver, 5).until(EC.element_to_be_clickable((By.ID,'bodyContent_PID_txtNroIDAfiliado')))\n",
    "    if afi.get_attribute('value')=='':\n",
    "        afi.send_keys(str(prestaciones['n af'][i]))\n",
    "    else:\n",
    "        time.sleep(3)\n",
    "        driver.find_element(By.ID,'bodyContent_PID_btnNroIDAfiliado_Clean').click()\n",
    "        afi.send_keys(str(prestaciones['n af'][i]))\n",
    "    #probar set wait el boton abajo esta inactivo\n",
    "    #cargo tipo de prestacion internada vs programada\n",
    "    prog_int=Select(driver.find_element(By.ID,'bodyContent_PV1Internacion_selTipoAdmision'))\n",
    "    prog_int.select_by_value('P')\n",
    "    #codigo de diagnostico\n",
    "    diag=driver.find_element(By.ID,'bodyContent_DG1_txtNroIDDiagnostico').get_attribute('value')\n",
    "    if diag=='':\n",
    "        driver.find_element(By.ID,'bodyContent_DG1_txtNroIDDiagnostico').send_keys('I10')\n",
    "    #selector de practicas\n",
    "    tip_prac=Select(driver.find_element(By.ID,'bodyContent_PRE_selSistemaCodificacion'))\n",
    "    tip_prac.select_by_value('1')\n",
    "    #Codigo de prestacion\n",
    "    prest= driver.find_element(By.ID,'bodyContent_PRE_txtCodigoPrestacion')\n",
    "    if prest=='':\n",
    "        prest.send_keys(str(prestaciones['codigo'][i]))\n",
    "    else:\n",
    "        prest.clear()\n",
    "        prest.send_keys(str(prestaciones['codigo'][i]))\n",
    "    #seleccionar cantidad de prestaciones, si no hay nada setear a uno, si uno no tocar\n",
    "    cant=driver.find_element(By.ID,'bodyContent_PRE_txtCantidadTratamientoSolicitados').get_attribute('value')\n",
    "    if cant == '':\n",
    "        driver.find_element(By.ID,'bodyContent_PRE_txtCantidadTratamientoSolicitados').send_keys('1')\n",
    "    aceptar=WebDriverWait(driver, 10).until(EC.element_to_be_clickable((By.ID, \"bodyContent_PRE_btnTablaPrestaciones_Add\")))\n",
    "    time.sleep(2)\n",
    "aceptar.click()\n",
    "time.sleep(2)\n",
    "driver.find_element(By.ID,'bodyContent_btnAceptar').click()\n",
    "driver.find_element(By.ID,'bodyContent_btnAceptar').click()\n",
    "    #chequear si con el dos hace dos click\n",
    "#descargar comprobante\n",
    "driver.find_element(By.ID,'bodyContent_btnExportar').click()"
   ]
  },
  {
   "cell_type": "code",
   "execution_count": null,
   "metadata": {},
   "outputs": [],
   "source": []
  }
 ],
 "metadata": {
  "kernelspec": {
   "display_name": "Python 3 (ipykernel)",
   "language": "python",
   "name": "python3"
  },
  "language_info": {
   "codemirror_mode": {
    "name": "ipython",
    "version": 3
   },
   "file_extension": ".py",
   "mimetype": "text/x-python",
   "name": "python",
   "nbconvert_exporter": "python",
   "pygments_lexer": "ipython3",
   "version": "3.9.13"
  }
 },
 "nbformat": 4,
 "nbformat_minor": 4
}
